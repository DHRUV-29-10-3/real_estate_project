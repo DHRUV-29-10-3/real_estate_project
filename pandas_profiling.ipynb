{
 "cells": [
  {
   "cell_type": "code",
   "execution_count": 1,
   "id": "a22ac148-8b46-4043-822c-f2622520641d",
   "metadata": {},
   "outputs": [
    {
     "data": {
      "application/vnd.jupyter.widget-view+json": {
       "model_id": "7db5bcc3b8104bfc8879a539a8998f67",
       "version_major": 2,
       "version_minor": 0
      },
      "text/plain": [
       "Summarize dataset:   0%|          | 0/5 [00:00<?, ?it/s]"
      ]
     },
     "metadata": {},
     "output_type": "display_data"
    },
    {
     "data": {
      "application/vnd.jupyter.widget-view+json": {
       "model_id": "611710e89349446eb34724d629114f7e",
       "version_major": 2,
       "version_minor": 0
      },
      "text/plain": [
       "Generate report structure:   0%|          | 0/1 [00:00<?, ?it/s]"
      ]
     },
     "metadata": {},
     "output_type": "display_data"
    },
    {
     "data": {
      "application/vnd.jupyter.widget-view+json": {
       "model_id": "09080d3d9ca1492bb8275751abc6ad95",
       "version_major": 2,
       "version_minor": 0
      },
      "text/plain": [
       "Render HTML:   0%|          | 0/1 [00:00<?, ?it/s]"
      ]
     },
     "metadata": {},
     "output_type": "display_data"
    },
    {
     "data": {
      "application/vnd.jupyter.widget-view+json": {
       "model_id": "30d70eb5c75646a4bb24327787f0ff4d",
       "version_major": 2,
       "version_minor": 0
      },
      "text/plain": [
       "Export report to file:   0%|          | 0/1 [00:00<?, ?it/s]"
      ]
     },
     "metadata": {},
     "output_type": "display_data"
    }
   ],
   "source": [
    "import pandas as pd\n",
    "from ydata_profiling import ProfileReport  # Newer version of pandas_profiling\n",
    "\n",
    "# Load dataset and remove duplicates\n",
    "df = pd.read_csv('gurgaon_properties_cleaned_v2.csv').drop_duplicates()\n",
    "\n",
    "# Generate Profiling Report\n",
    "profile = ProfileReport(df, title='Pandas Profiling Report', explorative=True)\n",
    "\n",
    "# Save report to an HTML file\n",
    "profile.to_file(\"output_report.html\")\n"
   ]
  },
  {
   "cell_type": "code",
   "execution_count": null,
   "id": "dee1fa97-3322-4c90-bd0d-a5cb1432f5f3",
   "metadata": {},
   "outputs": [],
   "source": []
  }
 ],
 "metadata": {
  "kernelspec": {
   "display_name": "Python 3 (ipykernel)",
   "language": "python",
   "name": "python3"
  },
  "language_info": {
   "codemirror_mode": {
    "name": "ipython",
    "version": 3
   },
   "file_extension": ".py",
   "mimetype": "text/x-python",
   "name": "python",
   "nbconvert_exporter": "python",
   "pygments_lexer": "ipython3",
   "version": "3.11.4"
  },
  "widgets": {
   "application/vnd.jupyter.widget-state+json": {
    "state": {
     "03fb87a590d24eb88c88ccf3ab3be731": {
      "model_module": "@jupyter-widgets/base",
      "model_module_version": "2.0.0",
      "model_name": "LayoutModel",
      "state": {}
     },
     "05f941908a554fb88f16c9ed95679d15": {
      "model_module": "@jupyter-widgets/base",
      "model_module_version": "2.0.0",
      "model_name": "LayoutModel",
      "state": {}
     },
     "068f80d367514f6e96ed9b9e05d51471": {
      "model_module": "@jupyter-widgets/controls",
      "model_module_version": "2.0.0",
      "model_name": "ProgressStyleModel",
      "state": {
       "description_width": ""
      }
     },
     "09080d3d9ca1492bb8275751abc6ad95": {
      "model_module": "@jupyter-widgets/controls",
      "model_module_version": "2.0.0",
      "model_name": "HBoxModel",
      "state": {
       "children": [
        "IPY_MODEL_8316b5d51ba542a69d20d12ad594e659",
        "IPY_MODEL_33ecc4c320734e258772e36282a47450",
        "IPY_MODEL_a5be7b22ca584969bd7503577d9b2438"
       ],
       "layout": "IPY_MODEL_4a5579d3cf8d46efb18798647c38743e"
      }
     },
     "199fecdf0cdf49c9b5afdb142cd8e00c": {
      "model_module": "@jupyter-widgets/controls",
      "model_module_version": "2.0.0",
      "model_name": "ProgressStyleModel",
      "state": {
       "description_width": ""
      }
     },
     "1c0558421cb040f1a2fe9a9aaeab4113": {
      "model_module": "@jupyter-widgets/controls",
      "model_module_version": "2.0.0",
      "model_name": "HTMLModel",
      "state": {
       "layout": "IPY_MODEL_1d994c53a08c4dfabbab5baff3af7f72",
       "style": "IPY_MODEL_2f019f06fc24426b9a03ed777fbf8214",
       "value": " 133/133 [00:11&lt;00:00,  7.21it/s, Completed]"
      }
     },
     "1c9d88ed9e3943528820d6313a43430b": {
      "model_module": "@jupyter-widgets/base",
      "model_module_version": "2.0.0",
      "model_name": "LayoutModel",
      "state": {}
     },
     "1d994c53a08c4dfabbab5baff3af7f72": {
      "model_module": "@jupyter-widgets/base",
      "model_module_version": "2.0.0",
      "model_name": "LayoutModel",
      "state": {}
     },
     "201d832597c140dfa66f6b38881b4eca": {
      "model_module": "@jupyter-widgets/base",
      "model_module_version": "2.0.0",
      "model_name": "LayoutModel",
      "state": {}
     },
     "21066fcf61794352be017bcf10923492": {
      "model_module": "@jupyter-widgets/controls",
      "model_module_version": "2.0.0",
      "model_name": "FloatProgressModel",
      "state": {
       "bar_style": "success",
       "layout": "IPY_MODEL_05f941908a554fb88f16c9ed95679d15",
       "max": 1,
       "style": "IPY_MODEL_2c1f6698876843b78375a82f013efe89",
       "value": 1
      }
     },
     "265d9918924c40a898492725b8397fe5": {
      "model_module": "@jupyter-widgets/base",
      "model_module_version": "2.0.0",
      "model_name": "LayoutModel",
      "state": {}
     },
     "2860baee08da460ea0af2bde5c1fab00": {
      "model_module": "@jupyter-widgets/base",
      "model_module_version": "2.0.0",
      "model_name": "LayoutModel",
      "state": {}
     },
     "2c1f6698876843b78375a82f013efe89": {
      "model_module": "@jupyter-widgets/controls",
      "model_module_version": "2.0.0",
      "model_name": "ProgressStyleModel",
      "state": {
       "description_width": ""
      }
     },
     "2f019f06fc24426b9a03ed777fbf8214": {
      "model_module": "@jupyter-widgets/controls",
      "model_module_version": "2.0.0",
      "model_name": "HTMLStyleModel",
      "state": {
       "description_width": "",
       "font_size": null,
       "text_color": null
      }
     },
     "30d70eb5c75646a4bb24327787f0ff4d": {
      "model_module": "@jupyter-widgets/controls",
      "model_module_version": "2.0.0",
      "model_name": "HBoxModel",
      "state": {
       "children": [
        "IPY_MODEL_6477f9b7dd044ab8a3f623f0197710c7",
        "IPY_MODEL_21066fcf61794352be017bcf10923492",
        "IPY_MODEL_d899971a6a354e0ab257b6339e1c3c28"
       ],
       "layout": "IPY_MODEL_6c904e2d609f4857ae57725507100a46"
      }
     },
     "33ecc4c320734e258772e36282a47450": {
      "model_module": "@jupyter-widgets/controls",
      "model_module_version": "2.0.0",
      "model_name": "FloatProgressModel",
      "state": {
       "bar_style": "success",
       "layout": "IPY_MODEL_265d9918924c40a898492725b8397fe5",
       "max": 1,
       "style": "IPY_MODEL_57d4ed19ddd4466b86ea281ed062aeb9",
       "value": 1
      }
     },
     "468f78b40c81473698d8e40afa86071b": {
      "model_module": "@jupyter-widgets/controls",
      "model_module_version": "2.0.0",
      "model_name": "HTMLStyleModel",
      "state": {
       "description_width": "",
       "font_size": null,
       "text_color": null
      }
     },
     "4a5579d3cf8d46efb18798647c38743e": {
      "model_module": "@jupyter-widgets/base",
      "model_module_version": "2.0.0",
      "model_name": "LayoutModel",
      "state": {}
     },
     "57d4ed19ddd4466b86ea281ed062aeb9": {
      "model_module": "@jupyter-widgets/controls",
      "model_module_version": "2.0.0",
      "model_name": "ProgressStyleModel",
      "state": {
       "description_width": ""
      }
     },
     "5f019745573845a0b15eb37c886ef271": {
      "model_module": "@jupyter-widgets/controls",
      "model_module_version": "2.0.0",
      "model_name": "HTMLStyleModel",
      "state": {
       "description_width": "",
       "font_size": null,
       "text_color": null
      }
     },
     "611710e89349446eb34724d629114f7e": {
      "model_module": "@jupyter-widgets/controls",
      "model_module_version": "2.0.0",
      "model_name": "HBoxModel",
      "state": {
       "children": [
        "IPY_MODEL_9f632da944e74c18a7b762b0e2c14b4b",
        "IPY_MODEL_8756405cc9a74603a3539ff2f9006044",
        "IPY_MODEL_d3e47ab74e1f4a538a212da918fda429"
       ],
       "layout": "IPY_MODEL_1c9d88ed9e3943528820d6313a43430b"
      }
     },
     "6477f9b7dd044ab8a3f623f0197710c7": {
      "model_module": "@jupyter-widgets/controls",
      "model_module_version": "2.0.0",
      "model_name": "HTMLModel",
      "state": {
       "layout": "IPY_MODEL_971f650a819f4d9698a5ab78b7b2650f",
       "style": "IPY_MODEL_468f78b40c81473698d8e40afa86071b",
       "value": "Export report to file: 100%"
      }
     },
     "64f35e56cfe74cf8bbb42e6d63edda06": {
      "model_module": "@jupyter-widgets/base",
      "model_module_version": "2.0.0",
      "model_name": "LayoutModel",
      "state": {}
     },
     "6c89bdae992a4f2d9d5682582332b3f7": {
      "model_module": "@jupyter-widgets/base",
      "model_module_version": "2.0.0",
      "model_name": "LayoutModel",
      "state": {}
     },
     "6c904e2d609f4857ae57725507100a46": {
      "model_module": "@jupyter-widgets/base",
      "model_module_version": "2.0.0",
      "model_name": "LayoutModel",
      "state": {}
     },
     "7db5bcc3b8104bfc8879a539a8998f67": {
      "model_module": "@jupyter-widgets/controls",
      "model_module_version": "2.0.0",
      "model_name": "HBoxModel",
      "state": {
       "children": [
        "IPY_MODEL_9526043ddca74ebea5d5eb35fab0ca71",
        "IPY_MODEL_efe7292138e844759a891952b264fca2",
        "IPY_MODEL_1c0558421cb040f1a2fe9a9aaeab4113"
       ],
       "layout": "IPY_MODEL_201d832597c140dfa66f6b38881b4eca"
      }
     },
     "8316b5d51ba542a69d20d12ad594e659": {
      "model_module": "@jupyter-widgets/controls",
      "model_module_version": "2.0.0",
      "model_name": "HTMLModel",
      "state": {
       "layout": "IPY_MODEL_03fb87a590d24eb88c88ccf3ab3be731",
       "style": "IPY_MODEL_5f019745573845a0b15eb37c886ef271",
       "value": "Render HTML: 100%"
      }
     },
     "8756405cc9a74603a3539ff2f9006044": {
      "model_module": "@jupyter-widgets/controls",
      "model_module_version": "2.0.0",
      "model_name": "FloatProgressModel",
      "state": {
       "bar_style": "success",
       "layout": "IPY_MODEL_a9abb4812f9c4c87ae0eee2fd2d19806",
       "max": 1,
       "style": "IPY_MODEL_199fecdf0cdf49c9b5afdb142cd8e00c",
       "value": 1
      }
     },
     "8d25d3ebed2e4a8d8bdf306a489de777": {
      "model_module": "@jupyter-widgets/controls",
      "model_module_version": "2.0.0",
      "model_name": "HTMLStyleModel",
      "state": {
       "description_width": "",
       "font_size": null,
       "text_color": null
      }
     },
     "9526043ddca74ebea5d5eb35fab0ca71": {
      "model_module": "@jupyter-widgets/controls",
      "model_module_version": "2.0.0",
      "model_name": "HTMLModel",
      "state": {
       "layout": "IPY_MODEL_64f35e56cfe74cf8bbb42e6d63edda06",
       "style": "IPY_MODEL_8d25d3ebed2e4a8d8bdf306a489de777",
       "value": "Summarize dataset: 100%"
      }
     },
     "971f650a819f4d9698a5ab78b7b2650f": {
      "model_module": "@jupyter-widgets/base",
      "model_module_version": "2.0.0",
      "model_name": "LayoutModel",
      "state": {}
     },
     "9ab070c5b4c24f6f980d9950634b9527": {
      "model_module": "@jupyter-widgets/base",
      "model_module_version": "2.0.0",
      "model_name": "LayoutModel",
      "state": {}
     },
     "9f632da944e74c18a7b762b0e2c14b4b": {
      "model_module": "@jupyter-widgets/controls",
      "model_module_version": "2.0.0",
      "model_name": "HTMLModel",
      "state": {
       "layout": "IPY_MODEL_cd2fde1b04ff412092ad58a1bc335d6a",
       "style": "IPY_MODEL_e6bbf48d85c24bfba49f38d67148d309",
       "value": "Generate report structure: 100%"
      }
     },
     "a5be7b22ca584969bd7503577d9b2438": {
      "model_module": "@jupyter-widgets/controls",
      "model_module_version": "2.0.0",
      "model_name": "HTMLModel",
      "state": {
       "layout": "IPY_MODEL_9ab070c5b4c24f6f980d9950634b9527",
       "style": "IPY_MODEL_b1ef5000c1f448548034f7862e3a357a",
       "value": " 1/1 [00:02&lt;00:00,  2.45s/it]"
      }
     },
     "a9abb4812f9c4c87ae0eee2fd2d19806": {
      "model_module": "@jupyter-widgets/base",
      "model_module_version": "2.0.0",
      "model_name": "LayoutModel",
      "state": {}
     },
     "aadd73000a814788a3c169751e11764d": {
      "model_module": "@jupyter-widgets/base",
      "model_module_version": "2.0.0",
      "model_name": "LayoutModel",
      "state": {}
     },
     "b1ef5000c1f448548034f7862e3a357a": {
      "model_module": "@jupyter-widgets/controls",
      "model_module_version": "2.0.0",
      "model_name": "HTMLStyleModel",
      "state": {
       "description_width": "",
       "font_size": null,
       "text_color": null
      }
     },
     "c2d6994fb671464cbffc93d3fc923062": {
      "model_module": "@jupyter-widgets/controls",
      "model_module_version": "2.0.0",
      "model_name": "HTMLStyleModel",
      "state": {
       "description_width": "",
       "font_size": null,
       "text_color": null
      }
     },
     "cd2fde1b04ff412092ad58a1bc335d6a": {
      "model_module": "@jupyter-widgets/base",
      "model_module_version": "2.0.0",
      "model_name": "LayoutModel",
      "state": {}
     },
     "d3e47ab74e1f4a538a212da918fda429": {
      "model_module": "@jupyter-widgets/controls",
      "model_module_version": "2.0.0",
      "model_name": "HTMLModel",
      "state": {
       "layout": "IPY_MODEL_2860baee08da460ea0af2bde5c1fab00",
       "style": "IPY_MODEL_c2d6994fb671464cbffc93d3fc923062",
       "value": " 1/1 [00:06&lt;00:00,  6.83s/it]"
      }
     },
     "d899971a6a354e0ab257b6339e1c3c28": {
      "model_module": "@jupyter-widgets/controls",
      "model_module_version": "2.0.0",
      "model_name": "HTMLModel",
      "state": {
       "layout": "IPY_MODEL_aadd73000a814788a3c169751e11764d",
       "style": "IPY_MODEL_f255388740b143fca67550640aa3bd36",
       "value": " 1/1 [00:00&lt;00:00, 47.85it/s]"
      }
     },
     "e6bbf48d85c24bfba49f38d67148d309": {
      "model_module": "@jupyter-widgets/controls",
      "model_module_version": "2.0.0",
      "model_name": "HTMLStyleModel",
      "state": {
       "description_width": "",
       "font_size": null,
       "text_color": null
      }
     },
     "efe7292138e844759a891952b264fca2": {
      "model_module": "@jupyter-widgets/controls",
      "model_module_version": "2.0.0",
      "model_name": "FloatProgressModel",
      "state": {
       "bar_style": "success",
       "layout": "IPY_MODEL_6c89bdae992a4f2d9d5682582332b3f7",
       "max": 5,
       "style": "IPY_MODEL_068f80d367514f6e96ed9b9e05d51471",
       "value": 5
      }
     },
     "f255388740b143fca67550640aa3bd36": {
      "model_module": "@jupyter-widgets/controls",
      "model_module_version": "2.0.0",
      "model_name": "HTMLStyleModel",
      "state": {
       "description_width": "",
       "font_size": null,
       "text_color": null
      }
     }
    },
    "version_major": 2,
    "version_minor": 0
   }
  }
 },
 "nbformat": 4,
 "nbformat_minor": 5
}
